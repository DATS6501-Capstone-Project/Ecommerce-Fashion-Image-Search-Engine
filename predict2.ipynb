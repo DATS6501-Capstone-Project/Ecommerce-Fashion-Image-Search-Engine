{
 "cells": [
  {
   "cell_type": "code",
   "execution_count": 1,
   "metadata": {},
   "outputs": [],
   "source": [
    "from tensorflow.keras.preprocessing.image import img_to_array\n",
    "from tensorflow.keras.preprocessing.image import load_img\n",
    "from tensorflow.keras.models import load_model\n",
    "import numpy as np\n",
    "import pickle\n",
    "import cv2\n",
    "import os\n",
    "import matplotlib.pyplot as plt\n",
    "from sklearn import metrics\n",
    "import random\n",
    "from pathlib import PurePosixPath\n",
    "import pandas as pd"
   ]
  },
  {
   "cell_type": "code",
   "execution_count": 2,
   "metadata": {},
   "outputs": [
    {
     "name": "stderr",
     "output_type": "stream",
     "text": [
      "/opt/anaconda3/lib/python3.7/site-packages/sklearn/base.py:318: UserWarning: Trying to unpickle estimator LabelBinarizer from version 0.23.2 when using version 0.22.1. This might lead to breaking code or invalid results. Use at your own risk.\n",
      "  UserWarning)\n"
     ]
    }
   ],
   "source": [
    "model_path = \"output_1/detector.h5\"\n",
    "binarizer_path = \"output_1/lb.pickle\"\n",
    "model = load_model(model_path)\n",
    "lb = pickle.loads(open(binarizer_path, \"rb\").read())\n",
    "\n",
    "f = open(\"output_1/test_paths.txt\", \"r\")\n",
    "imagePaths = list(f)\n",
    "imagePaths = [each.strip(\"\\n\").replace(\",\",\"\") for each in imagePaths] # need to fix this shit\n",
    "\n",
    "f = open(\"output_1/test_labels.txt\", \"r\")\n",
    "imageLabs = list(f)\n",
    "imageLabs = [each.strip(\"\\n\").replace(\",\",\"\") for each in imageLabs] # and this shit"
   ]
  },
  {
   "cell_type": "code",
   "execution_count": 3,
   "metadata": {},
   "outputs": [],
   "source": [
    "# True labels\n",
    "y_true = []\n",
    "for image in imageLabs:\n",
    "    img = np.array([int(i) for i in image]) # need to fix this lmao so inefficient\n",
    "    img = img.reshape(1,8)\n",
    "    index = np.argmax(img, axis=1)\n",
    "    label = lb.classes_[index][0]\n",
    "    y_true.append(label)"
   ]
  },
  {
   "cell_type": "code",
   "execution_count": 6,
   "metadata": {},
   "outputs": [
    {
     "name": "stdout",
     "output_type": "stream",
     "text": [
      "CPU times: user 23.6 s, sys: 92.8 ms, total: 23.7 s\n",
      "Wall time: 23.8 s\n"
     ]
    }
   ],
   "source": [
    "%%time\n",
    "# True bounding boxes\n",
    "# 23s for 1600 values\n",
    "Annots = pd.read_csv(\"Annotations_8catags2.csv\").drop(\"Unnamed: 0\",axis=1)\n",
    "def get_bboxes(imgpath):\n",
    "    p = PurePosixPath(imgpath)\n",
    "    img = str(p.relative_to(\"DeepFashion\")) # another data mismatch - maybe i'll fix it someday \n",
    "    x1,x2,y1,y2 = Annots.loc[Annots['Image'] ==img].values[0][2:] # trace bboxes from Annotations file\n",
    "    return (x1,x2,y1,y2) # change to (x1,y1,x2,y2) after training the new model\n",
    "\n",
    "bboxes_true = []\n",
    "for path in imagePaths:\n",
    "    x1,y1,x2,y2 = get_bboxes(path)\n",
    "    bboxes_true.append((x1,y1,x2,y2))"
   ]
  },
  {
   "cell_type": "code",
   "execution_count": null,
   "metadata": {},
   "outputs": [],
   "source": [
    "%%time\n",
    "# Predicted labels and bounding boxes\n",
    "# takes 5:30 for 1600 values - no time savings by reading images only with cv2.\n",
    "bboxes_pred = []\n",
    "y_pred = []\n",
    "for img in imagePaths:\n",
    "    image = load_img(img, target_size=(224, 224))\n",
    "    image = img_to_array(image) / 255.0\n",
    "    image = np.expand_dims(image, axis=0)\n",
    "    (boxPreds, labelPreds) = model.predict(image)\n",
    "    (x1, y1, x2, y2) = boxPreds.flatten()\n",
    "    image = cv2.imread(img)\n",
    "    (h, w) = image.shape[:2]\n",
    "    # re-scale the bounding box coordinates to fit the original image\n",
    "    x1 = int(x1 * w)\n",
    "    y1 = int(y1 * h)\n",
    "    x2 = int(x2 * w)\n",
    "    y2 = int(y2 * h)\n",
    "    bboxes_pred.append((x1, y1, x2, y2))\n",
    "    index = np.argmax(labelPreds, axis=1)\n",
    "    label = lb.classes_[index][0]\n",
    "    y_pred.append(label)"
   ]
  },
  {
   "cell_type": "code",
   "execution_count": null,
   "metadata": {},
   "outputs": [],
   "source": [
    "print(metrics.confusion_matrix(y_true,y_pred,labels=lb.classes_))"
   ]
  },
  {
   "cell_type": "code",
   "execution_count": null,
   "metadata": {},
   "outputs": [],
   "source": [
    "print(metrics.classification_report(y_true, y_pred,labels=lb.classes_))"
   ]
  },
  {
   "cell_type": "code",
   "execution_count": null,
   "metadata": {},
   "outputs": [],
   "source": [
    "def plot_bboxes(imagepath,true_bbox,pred_bbox):\n",
    "    x1,x2,y1,y2 = true_bbox\n",
    "    rx1,rx2,ry1,ry2 = pred_bbox\n",
    "    img2 = cv2.imread(imagepath)\n",
    "    img2 = cv2.cvtColor(img2, cv2.COLOR_BGR2RGB)\n",
    "    copy = img2.copy()\n",
    "    plt.imshow(cv2.rectangle(copy,(x1,y1),(x2,y2),(36,255,12),2)) # actual - green\n",
    "    plt.imshow(cv2.rectangle(copy,(rx1,ry1),(rx2,ry2),(255,36,12),2)) #predicted - red\n",
    "    plt.show()"
   ]
  },
  {
   "cell_type": "code",
   "execution_count": null,
   "metadata": {},
   "outputs": [],
   "source": [
    "randomlist = random.sample(range(0, 1600), 25)\n",
    "for i in (randomlist):\n",
    "    true_bbox = bboxes_true[i]\n",
    "    pred_bbox = bboxes_pred[i]\n",
    "    img = imagePaths[i]\n",
    "    plot_bboxes(img,true_bbox,pred_bbox)"
   ]
  }
 ],
 "metadata": {
  "kernelspec": {
   "display_name": "Python 3",
   "language": "python",
   "name": "python3"
  },
  "language_info": {
   "codemirror_mode": {
    "name": "ipython",
    "version": 3
   },
   "file_extension": ".py",
   "mimetype": "text/x-python",
   "name": "python",
   "nbconvert_exporter": "python",
   "pygments_lexer": "ipython3",
   "version": "3.7.6"
  }
 },
 "nbformat": 4,
 "nbformat_minor": 4
}
