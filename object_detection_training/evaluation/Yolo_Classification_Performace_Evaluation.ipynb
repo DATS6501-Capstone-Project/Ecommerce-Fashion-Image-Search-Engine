{
 "cells": [
  {
   "cell_type": "markdown",
   "metadata": {},
   "source": [
    "### Inception Resnet"
   ]
  },
  {
   "cell_type": "code",
   "execution_count": 1,
   "metadata": {},
   "outputs": [
    {
     "name": "stdout",
     "output_type": "stream",
     "text": [
      "Top 5 predicted categories in the sample dict_keys(['jersey', 'wool', 'sweatshirt', 'cardigan', 'pajama', 'velvet', 'suit', 'stole', 'bulletproof_vest', 'apron'])\n",
      "Percentage of top 5 categories_inception resnet:  86.70914883932636 %\n"
     ]
    }
   ],
   "source": [
    "# Based on the target labels - Calculating the top predictions for the pre-trained model\n",
    "# Inception Resnet\n",
    "import numpy as np\n",
    "from collections import Counter\n",
    "tops = np.load(\"./flipkart_incep_top1.npy\")\n",
    "\n",
    "tops_c = Counter(tops)\n",
    "\n",
    "len_tops = tops.shape[0]\n",
    "\n",
    "common_values = dict(tops_c.most_common(10))\n",
    "\n",
    "top_values = list(tops_c.values())[:10]\n",
    "\n",
    "print(\"Top 5 predicted categories in the sample\",common_values.keys() )\n",
    "\n",
    "print(\"Percentage of top 5 categories_inception resnet: \", (sum(common_values.values())/len_tops)*100,\"%\")"
   ]
  },
  {
   "cell_type": "markdown",
   "metadata": {},
   "source": [
    "### Resnet"
   ]
  },
  {
   "cell_type": "code",
   "execution_count": 6,
   "metadata": {},
   "outputs": [
    {
     "name": "stdout",
     "output_type": "stream",
     "text": [
      "Top 5 predicted categories in the sample dict_keys(['jersey', 'cardigan', 'sweatshirt', 'stole', 'miniskirt', 'cowboy_hat', 'pajama', 'apron', 'jean', 'suit'])\n",
      "Percentage of top 5 categories resnet:  83.55323020928115 %\n"
     ]
    }
   ],
   "source": [
    "import numpy as np\n",
    "from collections import Counter\n",
    "tops = np.load(\"./flipkart_resnet_top1.npy\")\n",
    "\n",
    "tops_c = Counter(tops)\n",
    "\n",
    "len_tops = tops.shape[0]\n",
    "\n",
    "common_values = dict(tops_c.most_common(10))\n",
    "\n",
    "top_values = list(tops_c.values())[:10]\n",
    "\n",
    "print(\"Top 5 predicted categories in the sample\",common_values.keys() )\n",
    "\n",
    "print(\"Percentage of top 5 categories resnet: \", (sum(common_values.values())/len_tops)*100,\"%\")"
   ]
  },
  {
   "cell_type": "markdown",
   "metadata": {},
   "source": [
    "### Efficientnet"
   ]
  },
  {
   "cell_type": "code",
   "execution_count": 7,
   "metadata": {},
   "outputs": [
    {
     "name": "stdout",
     "output_type": "stream",
     "text": [
      "Top 5 predicted categories in the sample dict_keys(['jersey', 'cardigan', 'stole', 'wool', 'pajama', 'sweatshirt', 'suit', 'sarong', 'bulletproof_vest', 'apron'])\n",
      "Percentage of top 5 categories Efficient Net:  87.55120619025945 %\n"
     ]
    }
   ],
   "source": [
    "import numpy as np\n",
    "from collections import Counter\n",
    "tops = np.load(\"./flipkart_efficient_top1.npy\")\n",
    "\n",
    "tops_c = Counter(tops)\n",
    "\n",
    "len_tops = tops.shape[0]\n",
    "\n",
    "common_values = dict(tops_c.most_common(10))\n",
    "\n",
    "top_values = list(tops_c.values())[:10]\n",
    "\n",
    "print(\"Top 5 predicted categories in the sample\",common_values.keys() )\n",
    "\n",
    "print(\"Percentage of top 5 categories Efficient Net: \", (sum(common_values.values())/len_tops)*100,\"%\")"
   ]
  },
  {
   "cell_type": "markdown",
   "metadata": {},
   "source": [
    "### VGG16"
   ]
  },
  {
   "cell_type": "code",
   "execution_count": 8,
   "metadata": {},
   "outputs": [
    {
     "name": "stdout",
     "output_type": "stream",
     "text": [
      "Top 5 predicted categories in the sample dict_keys(['cardigan', 'velvet', 'bow_tie', 'poncho'])\n",
      "Percentage of top 5 categories VGG:  100.0 %\n"
     ]
    }
   ],
   "source": [
    "import numpy as np\n",
    "from collections import Counter\n",
    "tops = np.load(\"./flipkart1_top1.npy\")\n",
    "\n",
    "tops_c = Counter(tops)\n",
    "\n",
    "len_tops = tops.shape[0]\n",
    "\n",
    "common_values = dict(tops_c.most_common(10))\n",
    "\n",
    "top_values = list(tops_c.values())[:10]\n",
    "\n",
    "print(\"Top 5 predicted categories in the sample\",common_values.keys() )\n",
    "\n",
    "print(\"Percentage of top 5 categories VGG: \", (sum(common_values.values())/len_tops)*100,\"%\")"
   ]
  },
  {
   "cell_type": "code",
   "execution_count": null,
   "metadata": {},
   "outputs": [],
   "source": []
  }
 ],
 "metadata": {
  "kernelspec": {
   "display_name": "Python 3",
   "language": "python",
   "name": "python3"
  },
  "language_info": {
   "codemirror_mode": {
    "name": "ipython",
    "version": 3
   },
   "file_extension": ".py",
   "mimetype": "text/x-python",
   "name": "python",
   "nbconvert_exporter": "python",
   "pygments_lexer": "ipython3",
   "version": "3.7.6"
  }
 },
 "nbformat": 4,
 "nbformat_minor": 4
}
